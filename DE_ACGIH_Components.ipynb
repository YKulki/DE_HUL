{
  "cells": [
    {
      "cell_type": "markdown",
      "metadata": {
        "id": "view-in-github",
        "colab_type": "text"
      },
      "source": [
        "<a href=\"https://colab.research.google.com/github/YKulki/DE_HUL/blob/main/DE_ACGIH_Components.ipynb\" target=\"_parent\"><img src=\"https://colab.research.google.com/assets/colab-badge.svg\" alt=\"Open In Colab\"/></a>"
      ]
    },
    {
      "cell_type": "code",
      "execution_count": null,
      "metadata": {
        "id": "xVlH5LlIFDlI",
        "colab": {
          "resources": {
            "http://localhost:8080/nbextensions/google.colab/files.js": {
              "data": "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",
              "ok": true,
              "headers": [
                [
                  "content-type",
                  "application/javascript"
                ]
              ],
              "status": 200,
              "status_text": ""
            }
          },
          "base_uri": "https://localhost:8080/",
          "height": 74
        },
        "outputId": "b12b8740-f7e5-432f-c443-78a6d4b500db"
      },
      "outputs": [
        {
          "output_type": "display_data",
          "data": {
            "text/plain": [
              "<IPython.core.display.HTML object>"
            ],
            "text/html": [
              "\n",
              "     <input type=\"file\" id=\"files-1541685f-46e8-444c-a381-1529bbcfaa83\" name=\"files[]\" multiple disabled\n",
              "        style=\"border:none\" />\n",
              "     <output id=\"result-1541685f-46e8-444c-a381-1529bbcfaa83\">\n",
              "      Upload widget is only available when the cell has been executed in the\n",
              "      current browser session. Please rerun this cell to enable.\n",
              "      </output>\n",
              "      <script src=\"/nbextensions/google.colab/files.js\"></script> "
            ]
          },
          "metadata": {}
        },
        {
          "output_type": "stream",
          "name": "stdout",
          "text": [
            "Saving DE Input File - Sheet1.csv to DE Input File - Sheet1.csv\n"
          ]
        }
      ],
      "source": [
        "from google.colab import files  #to upload a local file into stream\n",
        "uploaded = files.upload()"
      ]
    },
    {
      "cell_type": "code",
      "execution_count": null,
      "metadata": {
        "id": "gKHPBzH2sPHV"
      },
      "outputs": [],
      "source": [
        "import io                       #to read uploaded input file according to specification\n",
        "import pandas as pd             #pandas used to read write data into csv\n",
        "\n",
        "df = pd.read_csv(io.BytesIO(uploaded['DE Input File - Sheet1.csv']))            #For Calculation Basis and code understanding, please refer to the report \n",
        "df['Tag No.'] = df['Tag No.'].astype('string')\n",
        "df['Powder Type'] = df['Powder Type'].astype('string')\n",
        "df['Belt Drop Heights Inlet(mm)'] = df['Belt Drop Heights Inlet(mm)'].astype('string')\n",
        "df['Outlet Areas(m2)'] = df['Outlet Areas(m2)'].astype('string')\n",
        "df['Opening Area(m2)'] = df['Opening Area(m2)'].astype('string')                        #conversions of values into strings to read easily"
      ]
    },
    {
      "cell_type": "code",
      "execution_count": null,
      "metadata": {
        "id": "xABzykcqV1Za"
      },
      "outputs": [],
      "source": [
        "def belt_conveyor(length,width,speed,inlets,outlets,drop_heights,areas,powder_flow_rate,dust_gen_factor):   \n",
        "\n",
        "  inlet_q=[]            #three hood flow rate lists\n",
        "  length_q=[]\n",
        "  outlet_q=[]\n",
        "\n",
        "\n",
        "  #emp_factor=float(input(\"Material dust correction factor\"))\n",
        "\n",
        "  width=0.00328084*width #in mm  \n",
        "  speed=196.85*speed  #in m/s\n",
        "\n",
        "\n",
        "  length=3.28084*length #in m\n",
        "  heights=list(map(float, drop_heights.split(',')))\n",
        "\n",
        "\n",
        "  for x in range(inlets):                   #ACGIH Method for Inlet\n",
        "    drop_height=heights[x]\n",
        "    if drop_height<0:\n",
        "      inlet_q.append(0)\n",
        "    else:\n",
        "      if drop_height<0.9144:\n",
        "        if speed <200:\n",
        "          inlet_q.append(594.6536*width)\n",
        "        else:\n",
        "          inlet_q.append(849.5051*width)\n",
        "      else:\n",
        "        if speed<200:\n",
        "          inlet_q.append(594.6536*width)\n",
        "        else:\n",
        "          inlet_q.append(849.5051*width)\n",
        "        if width<3:\n",
        "          inlet_q.append(1189.3071)\n",
        "        else:\n",
        "          inlet_q.append(1699.0102)\n",
        "\n",
        "\n",
        "  n=int(length/30)                        #ACGIH for Length Hoods - read document sample calculations\n",
        "  for x in range(n):\n",
        "    length_q.append(594.6536*width)\n",
        "\n",
        "  outlet_areas=list(map(float, areas.split(',')))\n",
        "\n",
        "  for x in range(outlets):                #ACGIH for Outlets\n",
        "    outlet_area=10.7639*outlet_areas[x]   #in m2\n",
        "    outlet_q.append(339.802*outlet_area)\n",
        "\n",
        "  \n",
        "  q_powder_flow=dust_gen_factor*powder_flow_rate    #Method 3 sense check\n",
        "\n",
        "  if sum(inlet_q)+sum(length_q)+sum(outlet_q)<q_powder_flow:\n",
        "    print(\"Check with emperical formula\")\n",
        "  else:  \n",
        "    Inlet_Q = \",\".join(map(str, inlet_q))\n",
        "    Outlet_Q =\",\".join(map(str, outlet_q))\n",
        "    Length_Q =\",\".join(map(str, length_q))\n",
        "\n",
        "\n",
        "\n",
        "    return [Inlet_Q,Outlet_Q,Length_Q]      #Returning values"
      ]
    },
    {
      "cell_type": "code",
      "execution_count": null,
      "metadata": {
        "id": "uH5k8zuzqnC9"
      },
      "outputs": [],
      "source": [
        "def vessel(openings,volume,hopper_type,cycles,empty_time,opening_area,powder_flow_rate,dust_gen_factor):\n",
        "\n",
        "  q_calc=[]\n",
        "\n",
        "  opening_area=list(map(float, opening_area.split(',')))\n",
        "\n",
        "  if volume>0:                        #Method 4 for batch and discharge hoppers\n",
        "    if hopper_type=='B':\n",
        "      q1=dust_gen_factor*volume*cycles #cycles per hr,empty time in s\n",
        "      if empty_time>0:\n",
        "        q2= dust_gen_factor*volume*3600*10/empty_time\n",
        "      else:\n",
        "        q2=0\n",
        "      q_airchange=max(q1,q2)\n",
        "    elif hopper_type=='D':\n",
        "      #8-15 air changes recommended\n",
        "      q1=dust_gen_factor*volume*cycles #cycles per hr,empty time in s\n",
        "      q_airchange=q1\n",
        "    else:\n",
        "      print(\"Incorrect input\")\n",
        "  else: \n",
        "    q_airchange=0\n",
        "\n",
        "  for x in range(openings):               #Method 2 - face velocity =1m/s\n",
        "    if opening_area[x]>0:\n",
        "      area=dust_gen_factor*10.7639*opening_area[x] #in m^2\n",
        "      q_calc.append(339.8*area)\n",
        "    else:\n",
        "      q_calc.append(0)\n",
        "\n",
        "  q_powder_flow=dust_gen_factor*float(15*powder_flow_rate)    #Method 3\n",
        "\n",
        "  return max(sum(q_calc),q_airchange,q_powder_flow)"
      ]
    },
    {
      "cell_type": "code",
      "execution_count": null,
      "metadata": {
        "id": "IvdxB6qYwvQF"
      },
      "outputs": [],
      "source": [
        " def Sieve(sieve_area):\n",
        "\n",
        "  sieve_area=10.7639*sieve_area\n",
        "\n",
        "  q=1.699*50*sieve_area             #ACGIH Method\n",
        "\n",
        "  q_powder_flow=float(20*dust_gen_factor*powder_flow_rate)    #Method 3\n",
        "\n",
        "  return max(q,q_powder_flow)"
      ]
    },
    {
      "cell_type": "code",
      "source": [
        "def LIW(width,areas,powder_flow_rate,dust_gen_factor,volume,empty_time):\n",
        "  \n",
        "  if areas>0:\n",
        "    outlet_area=10.7639*areas   #in m2\n",
        "    outlet_q=(339.802*outlet_area)          #For conveyor attached to LIWF - ACGIH based\n",
        "  else:\n",
        "    outlet_q=0\n",
        "\n",
        "  q_oneairchange=15*volume/empty_time*dust_gen_factor*3600    #Method 4 for vessel of LIWF\n",
        "  q_powder_flow=float(dust_gen_factor*powder_flow_rate*15)    #Method 3 Sense check\n",
        "\n",
        "  q_calc=max(q_oneairchange,q_powder_flow)\n",
        "\n",
        "\n",
        "  return [outlet_q,q_calc]"
      ],
      "metadata": {
        "id": "D9v7BpxTcVNr"
      },
      "execution_count": null,
      "outputs": []
    },
    {
      "cell_type": "code",
      "source": [
        "def Boon(powder_flow_rate,dust_gen_factor):\n",
        "  q=powder_flow_rate*dust_gen_factor*20\n",
        "  if q>2720:\n",
        "    Boon_q=[q,q]\n",
        "  else:\n",
        "    Boon_q='1359.2081,1359.2081'            #ACGIH Method\n",
        "  return Boon_q"
      ],
      "metadata": {
        "id": "GzDUjShhYzNp"
      },
      "execution_count": null,
      "outputs": []
    },
    {
      "cell_type": "code",
      "execution_count": null,
      "metadata": {
        "id": "AdhjDSuYGgsV",
        "colab": {
          "base_uri": "https://localhost:8080/"
        },
        "outputId": "71e3bde3-3224-4ad4-fbde-96aa3fc75675"
      },
      "outputs": [
        {
          "output_type": "stream",
          "name": "stderr",
          "text": [
            "/usr/local/lib/python3.7/dist-packages/ipykernel_launcher.py:44: SettingWithCopyWarning: \n",
            "A value is trying to be set on a copy of a slice from a DataFrame\n",
            "\n",
            "See the caveats in the documentation: https://pandas.pydata.org/pandas-docs/stable/user_guide/indexing.html#returning-a-view-versus-a-copy\n",
            "/usr/local/lib/python3.7/dist-packages/pandas/core/indexing.py:1732: SettingWithCopyWarning: \n",
            "A value is trying to be set on a copy of a slice from a DataFrame\n",
            "\n",
            "See the caveats in the documentation: https://pandas.pydata.org/pandas-docs/stable/user_guide/indexing.html#returning-a-view-versus-a-copy\n",
            "  self._setitem_single_block(indexer, value, name)\n",
            "/usr/local/lib/python3.7/dist-packages/ipykernel_launcher.py:45: SettingWithCopyWarning: \n",
            "A value is trying to be set on a copy of a slice from a DataFrame\n",
            "\n",
            "See the caveats in the documentation: https://pandas.pydata.org/pandas-docs/stable/user_guide/indexing.html#returning-a-view-versus-a-copy\n",
            "/usr/local/lib/python3.7/dist-packages/ipykernel_launcher.py:46: SettingWithCopyWarning: \n",
            "A value is trying to be set on a copy of a slice from a DataFrame\n",
            "\n",
            "See the caveats in the documentation: https://pandas.pydata.org/pandas-docs/stable/user_guide/indexing.html#returning-a-view-versus-a-copy\n",
            "/usr/local/lib/python3.7/dist-packages/ipykernel_launcher.py:48: SettingWithCopyWarning: \n",
            "A value is trying to be set on a copy of a slice from a DataFrame\n",
            "\n",
            "See the caveats in the documentation: https://pandas.pydata.org/pandas-docs/stable/user_guide/indexing.html#returning-a-view-versus-a-copy\n",
            "/usr/local/lib/python3.7/dist-packages/ipykernel_launcher.py:50: SettingWithCopyWarning: \n",
            "A value is trying to be set on a copy of a slice from a DataFrame\n",
            "\n",
            "See the caveats in the documentation: https://pandas.pydata.org/pandas-docs/stable/user_guide/indexing.html#returning-a-view-versus-a-copy\n",
            "/usr/local/lib/python3.7/dist-packages/ipykernel_launcher.py:53: SettingWithCopyWarning: \n",
            "A value is trying to be set on a copy of a slice from a DataFrame\n",
            "\n",
            "See the caveats in the documentation: https://pandas.pydata.org/pandas-docs/stable/user_guide/indexing.html#returning-a-view-versus-a-copy\n",
            "/usr/local/lib/python3.7/dist-packages/ipykernel_launcher.py:55: SettingWithCopyWarning: \n",
            "A value is trying to be set on a copy of a slice from a DataFrame\n",
            "\n",
            "See the caveats in the documentation: https://pandas.pydata.org/pandas-docs/stable/user_guide/indexing.html#returning-a-view-versus-a-copy\n"
          ]
        }
      ],
      "source": [
        "q=[]\n",
        "\n",
        "for ind in df.index:                            #Execution Cell for the Code - Reads and Writes into File after calling each function\n",
        "  if not pd.isnull(df.loc[ind, 'Tag No.']): \n",
        "    if df['Tag No.'][ind][:2]== \"BC\" :\n",
        "      length=df['Length(m)'][ind]\n",
        "      width=df['Belt Width(mm)'][ind]\n",
        "      speed=float(df['Belt Speed (m/s)'][ind])\n",
        "      inlets=int(df['Inlets'][ind])\n",
        "      outlets=int(df['Outlets'][ind])\n",
        "      drop_heights=df['Belt Drop Heights Inlet(mm)'][ind]\n",
        "      areas=df['Outlet Areas(m2)'][ind]\n",
        "      powder_flow_rate=df['Powder Flow Rate(m3/hr)'][ind]\n",
        "      dust_gen_factor=df['Dust_gen_factor'][ind]\n",
        "      q=(belt_conveyor(length,width,speed,inlets,outlets,drop_heights,areas,powder_flow_rate,dust_gen_factor)) #Function call for Belt conveyor\n",
        "    elif df['Tag No.'][ind][:2]== \"WH\"or df['Tag No.'][ind][:2]== \"DH\" or df['Tag No.'][ind][:2]== \"VS\" :\n",
        "      openings=int(df['Openings'][ind])\n",
        "      opening_area=df['Opening Area(m2)'][ind] \n",
        "      volume=df['Volume(m3)'][ind]\n",
        "      hopper_type=df['Hopper Type'][ind]\n",
        "      cycles=df['Cycles (per hour)'][ind]\n",
        "      empty_time=df['Empty Time(s)'][ind]\n",
        "      powder_flow_rate=df['Powder Flow Rate(m3/hr)'][ind]\n",
        "      dust_gen_factor=df['Dust_gen_factor'][ind]\n",
        "      q=vessel(openings,volume,hopper_type,cycles,empty_time,opening_area,powder_flow_rate,dust_gen_factor)   #Function call for Vessels\n",
        "    elif df['Tag No.'][ind][:1]==\"S\":\n",
        "      sieve_area=float(df['Sieve_Area(m2)'][ind])\n",
        "      q=Sieve(sieve_area)       #Function call for Sieves\n",
        "    elif df['Tag No.'][ind][:1]==\"X\":\n",
        "      width=df['Belt Width(mm)'][ind]\n",
        "      areas=float(df['Outlet Areas(m2)'][ind])\n",
        "      powder_flow_rate=df['Powder Flow Rate(m3/hr)'][ind]\n",
        "      dust_gen_factor=df['Dust_gen_factor'][ind]\n",
        "      volume=df['Volume(m3)'][ind]\n",
        "      empty_time=df['Empty Time(s)'][ind]\n",
        "      q=LIW(width,areas,powder_flow_rate,dust_gen_factor,volume,empty_time)     #Function call for LIWF\n",
        "    elif df['Tag No.'][ind][:2]==\"MX\":\n",
        "      powder_flow_rate=df['Powder Flow Rate(m3/hr)'][ind]\n",
        "      dust_gen_factor=df['Dust_gen_factor'][ind]\n",
        "      q=Boon(powder_flow_rate,dust_gen_factor)        #Function call for Mixers\n",
        "    else:\n",
        "      print(\"Soz\")\n",
        "  if df['Tag No.'][ind][:2]== \"BC\":         #Writing into CSV\n",
        "    df['Inlet_Q'][ind]=q[0]\n",
        "    df['Outlet_Q'][ind]=q[1]\n",
        "    df['Length_Q'][ind]=q[2]\n",
        "  elif df['Tag No.'][ind][:2]== \"WH\"or df['Tag No.'][ind][:2]== \"DH\" or df['Tag No.'][ind][:2]== \"VS\":\n",
        "    df['Vessel_Q'][ind]=q\n",
        "  elif df['Tag No.'][ind][:1]==\"S\":\n",
        "    df['Sieve_Q'][ind]=q\n",
        "  elif df['Tag No.'][ind][:1]==\"X\":\n",
        "    df['Outlet_Q'][ind]=q[0]\n",
        "    df['Vessel_Q'][ind]=q[1]\n",
        "  elif df['Tag No.'][ind][:2]==\"MX\":\n",
        "    df['Mixer_Q'][ind]=q\n",
        "  else:\n",
        "    print(\"Component Not Present, Please Check!\")  #For components not present\n",
        "      \n",
        "\n",
        "\n"
      ]
    },
    {
      "cell_type": "code",
      "execution_count": null,
      "metadata": {
        "id": "Eb04aRwSLXAF",
        "colab": {
          "base_uri": "https://localhost:8080/",
          "height": 17
        },
        "outputId": "5a544c49-7f1f-4566-b917-fb034b021562"
      },
      "outputs": [
        {
          "output_type": "display_data",
          "data": {
            "text/plain": [
              "<IPython.core.display.Javascript object>"
            ],
            "application/javascript": [
              "\n",
              "    async function download(id, filename, size) {\n",
              "      if (!google.colab.kernel.accessAllowed) {\n",
              "        return;\n",
              "      }\n",
              "      const div = document.createElement('div');\n",
              "      const label = document.createElement('label');\n",
              "      label.textContent = `Downloading \"${filename}\": `;\n",
              "      div.appendChild(label);\n",
              "      const progress = document.createElement('progress');\n",
              "      progress.max = size;\n",
              "      div.appendChild(progress);\n",
              "      document.body.appendChild(div);\n",
              "\n",
              "      const buffers = [];\n",
              "      let downloaded = 0;\n",
              "\n",
              "      const channel = await google.colab.kernel.comms.open(id);\n",
              "      // Send a message to notify the kernel that we're ready.\n",
              "      channel.send({})\n",
              "\n",
              "      for await (const message of channel.messages) {\n",
              "        // Send a message to notify the kernel that we're ready.\n",
              "        channel.send({})\n",
              "        if (message.buffers) {\n",
              "          for (const buffer of message.buffers) {\n",
              "            buffers.push(buffer);\n",
              "            downloaded += buffer.byteLength;\n",
              "            progress.value = downloaded;\n",
              "          }\n",
              "        }\n",
              "      }\n",
              "      const blob = new Blob(buffers, {type: 'application/binary'});\n",
              "      const a = document.createElement('a');\n",
              "      a.href = window.URL.createObjectURL(blob);\n",
              "      a.download = filename;\n",
              "      div.appendChild(a);\n",
              "      a.click();\n",
              "      div.remove();\n",
              "    }\n",
              "  "
            ]
          },
          "metadata": {}
        },
        {
          "output_type": "display_data",
          "data": {
            "text/plain": [
              "<IPython.core.display.Javascript object>"
            ],
            "application/javascript": [
              "download(\"download_b3ff766f-303d-447f-8bc4-6cfb35b25f70\", \"Output File.csv\", 5468)"
            ]
          },
          "metadata": {}
        }
      ],
      "source": [
        "df.to_csv('Output File.csv')            #To donwload Result File\n",
        "files.download('Output File.csv')"
      ]
    }
  ],
  "metadata": {
    "colab": {
      "name": "DE ACGIH Components",
      "provenance": [],
      "collapsed_sections": [],
      "authorship_tag": "ABX9TyOBRQDRbtlJjirKUVm3J9Pn",
      "include_colab_link": true
    },
    "kernelspec": {
      "display_name": "Python 3",
      "name": "python3"
    },
    "language_info": {
      "name": "python"
    }
  },
  "nbformat": 4,
  "nbformat_minor": 0
}