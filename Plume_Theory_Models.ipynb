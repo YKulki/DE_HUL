{
  "nbformat": 4,
  "nbformat_minor": 0,
  "metadata": {
    "colab": {
      "name": "Plume Theory Models",
      "provenance": [],
      "collapsed_sections": [],
      "authorship_tag": "ABX9TyMNL+W9EoI1aC+p7uHXUG5n",
      "include_colab_link": true
    },
    "kernelspec": {
      "name": "python3",
      "display_name": "Python 3"
    },
    "language_info": {
      "name": "python"
    }
  },
  "cells": [
    {
      "cell_type": "markdown",
      "metadata": {
        "id": "view-in-github",
        "colab_type": "text"
      },
      "source": [
        "<a href=\"https://colab.research.google.com/github/YKulki/DE_HUL/blob/main/Plume_Theory_Models.ipynb\" target=\"_parent\"><img src=\"https://colab.research.google.com/assets/colab-badge.svg\" alt=\"Open In Colab\"/></a>"
      ]
    },
    {
      "cell_type": "code",
      "source": [
        "Q0=0\n",
        "Q1=0\n",
        "Q2=0\n",
        "Q3=0\n",
        "Vp=0.0311\n",
        "Ap=0.0000001134\n",
        "A0=0.07\n",
        "g=9.81\n",
        "z=0.28\n",
        "Ua=0.0000181\n",
        "rhoA=1.225\n",
        "v0=0.45\n",
        "M=44.8\n",
        "\n",
        "for x in range(1):\n",
        "  Dp=float(input())\n",
        "\n",
        "  #Hemeon\n",
        "  q0=(0.66*Vp*g*(z**2)*(Ap**2)/(Dp))**0.33 \n",
        "\n",
        "  #Ogata\n",
        "  q1=(((37.567*g*Vp*(Ap**2)*(z**1.7))*((Ua)/(rhoA*Dp*((g*Dp)**0.5)))**0.6)/(Dp**0.7))**0.333\n",
        "\n",
        "  #Sun & Wu\n",
        "  q2=(((15*Vp*(Ap**2)*((Ua)**(2/3)))*((v0**2)*z+g*(z**2))*((v0**2)+2*g*z)**(-1/3)*(1-(Vp*((v0**2)+2*g*z)**-0.5)/A0))/((rhoA**(2/3))*(Dp**(5/3))))**(1/3)\n",
        "\n",
        "  #Anderson\n",
        "  q3=10*A0*(M*(z*3.28084)**2/Dp)**(1/3)\n",
        "  \n",
        "  p=float(input())\n",
        "  Q0=Q0+q0*p\n",
        "  Q1=Q1+q1*p\n",
        "  Q2=Q2+q2*p\n",
        "  Q3=Q3+q3*p\n",
        "\n",
        "print(Q0*3600,Q1*3600,Q2*3600,Q3*1.699)\n",
        "\n"
      ],
      "metadata": {
        "id": "9HG21UCAlPGY",
        "colab": {
          "base_uri": "https://localhost:8080/"
        },
        "outputId": "7630f9c3-7797-4dac-fb87-8953bb9498a9"
      },
      "execution_count": null,
      "outputs": [
        {
          "output_type": "stream",
          "name": "stdout",
          "text": [
            "0.00038\n",
            "1\n",
            "0.3209623049042228 0.5352228788937149 0.3168596143396934 55.1084606145092\n"
          ]
        }
      ]
    },
    {
      "cell_type": "code",
      "source": [
        ""
      ],
      "metadata": {
        "id": "Q1eb2Hac1B3B"
      },
      "execution_count": null,
      "outputs": []
    }
  ]
}